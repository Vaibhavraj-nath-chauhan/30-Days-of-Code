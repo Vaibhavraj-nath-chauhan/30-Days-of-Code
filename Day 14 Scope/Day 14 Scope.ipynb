{
 "cells": [
  {
   "cell_type": "markdown",
   "metadata": {},
   "source": [
    "##### Challenge Link -->             https://www.hackerrank.com/challenges/30-scope/problem"
   ]
  },
  {
   "cell_type": "code",
   "execution_count": null,
   "metadata": {},
   "outputs": [],
   "source": [
    "class Difference:\n",
    "    def __init__(self, a):\n",
    "        self.__elements = a\n",
    "    def computeDifference(self):\n",
    "        self.maximumDifference =0\n",
    "        for i in range(len(self.__elements)):\n",
    "            for j in range(i+1,len(self.__elements)):\n",
    "                data = abs(self.__elements[i]-self.__elements[j])\n",
    "                if self.maximumDifference<data:\n",
    "                    self.maximumDifference = data\n",
    "# End of Difference class\n",
    "d = Difference(a)\n",
    "d.computeDifference()\n",
    "\n",
    "print(d.maximumDifference)"
   ]
  }
 ],
 "metadata": {
  "kernelspec": {
   "display_name": "Python 3",
   "language": "python",
   "name": "python3"
  },
  "language_info": {
   "codemirror_mode": {
    "name": "ipython",
    "version": 3
   },
   "file_extension": ".py",
   "mimetype": "text/x-python",
   "name": "python",
   "nbconvert_exporter": "python",
   "pygments_lexer": "ipython3",
   "version": "3.7.6"
  }
 },
 "nbformat": 4,
 "nbformat_minor": 4
}
