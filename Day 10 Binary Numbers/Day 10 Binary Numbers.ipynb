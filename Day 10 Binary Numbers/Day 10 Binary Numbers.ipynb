{
 "cells": [
  {
   "cell_type": "markdown",
   "metadata": {},
   "source": [
    "##### Challenge Link -->             https://www.hackerrank.com/challenges/30-binary-numbers/problem"
   ]
  },
  {
   "cell_type": "code",
   "execution_count": null,
   "metadata": {},
   "outputs": [],
   "source": [
    "k= int(input())\n",
    "s =\"\"\n",
    "while(k>0):\n",
    "    rem = k%2\n",
    "    k= int(k/2)\n",
    "    s += str(rem)\n",
    "s = s[::-1] +\"0\"\n",
    "appex = []\n",
    "count =0\n",
    "for i in s:\n",
    "    if i==\"1\":\n",
    "        count +=1\n",
    "    elif i ==\"0\":\n",
    "        appex.append(count)\n",
    "        count =0\n",
    "print(max(appex))       "
   ]
  }
 ],
 "metadata": {
  "kernelspec": {
   "display_name": "Python 3",
   "language": "python",
   "name": "python3"
  },
  "language_info": {
   "codemirror_mode": {
    "name": "ipython",
    "version": 3
   },
   "file_extension": ".py",
   "mimetype": "text/x-python",
   "name": "python",
   "nbconvert_exporter": "python",
   "pygments_lexer": "ipython3",
   "version": "3.7.6"
  }
 },
 "nbformat": 4,
 "nbformat_minor": 4
}
