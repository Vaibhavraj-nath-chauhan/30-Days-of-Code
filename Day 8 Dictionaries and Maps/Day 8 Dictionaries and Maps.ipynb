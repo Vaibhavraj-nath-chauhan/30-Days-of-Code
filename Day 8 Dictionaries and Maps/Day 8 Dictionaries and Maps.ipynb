{
 "cells": [
  {
   "cell_type": "markdown",
   "metadata": {},
   "source": [
    "##### Challenge Link -->             https://www.hackerrank.com/challenges/30-dictionaries-and-maps/problem"
   ]
  },
  {
   "cell_type": "code",
   "execution_count": null,
   "metadata": {},
   "outputs": [],
   "source": [
    "k = int(input())\n",
    "phone_list = {}\n",
    "for i in range(k):\n",
    "    name,number = input().split()\n",
    "    phone_list[name] = number\n",
    "for i in range(k):\n",
    "    try:\n",
    "        name = input()\n",
    "        if name :\n",
    "            if name in phone_list.keys():\n",
    "                print(f\"{name}={phone_list[name]}\")\n",
    "            else:\n",
    "                print(\"Not found\")\n",
    "    except:\n",
    "        break"
   ]
  }
 ],
 "metadata": {
  "kernelspec": {
   "display_name": "Python 3",
   "language": "python",
   "name": "python3"
  },
  "language_info": {
   "codemirror_mode": {
    "name": "ipython",
    "version": 3
   },
   "file_extension": ".py",
   "mimetype": "text/x-python",
   "name": "python",
   "nbconvert_exporter": "python",
   "pygments_lexer": "ipython3",
   "version": "3.7.6"
  }
 },
 "nbformat": 4,
 "nbformat_minor": 4
}
